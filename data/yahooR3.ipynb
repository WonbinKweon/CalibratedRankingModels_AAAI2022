{
 "cells": [
  {
   "cell_type": "code",
   "execution_count": 1,
   "metadata": {},
   "outputs": [],
   "source": [
    "import numpy as np\n",
    "import torch\n",
    "import torch.nn as nn\n",
    "import pandas as pd\n",
    "from torch.autograd import Variable\n",
    "import random\n",
    "import torch.optim as optim\n",
    "import pickle\n",
    "import torch.utils.data\n",
    "from torch.backends import cudnn\n",
    "from scipy.sparse import csr_matrix\n",
    "import math\n",
    "import bottleneck as bn\n",
    "import time\n",
    "import matplotlib.pyplot as plt"
   ]
  },
  {
   "cell_type": "code",
   "execution_count": 2,
   "metadata": {},
   "outputs": [],
   "source": [
    "train_file = \"yahooR3/ydata-ymusic-rating-study-v1_0-train.txt\"\n",
    "test_file = \"yahooR3/ydata-ymusic-rating-study-v1_0-test.txt\"\n",
    "\n",
    "num_user = 15400\n",
    "num_item = 1000"
   ]
  },
  {
   "cell_type": "code",
   "execution_count": 3,
   "metadata": {
    "scrolled": true
   },
   "outputs": [],
   "source": [
    "train_table = pd.read_csv(train_file, header=None, sep='\\t', names=['u','i','r'])\n",
    "test_table = pd.read_csv(test_file, header=None, sep='\\t', names=['u','i','r'])"
   ]
  },
  {
   "cell_type": "code",
   "execution_count": 4,
   "metadata": {},
   "outputs": [],
   "source": [
    "# filtering\n",
    "train_table = train_table[train_table['r'] > 3.5] # filtering.\n",
    "\n",
    "# indices start from 0\n",
    "train_table['u'] = train_table['u'] - 1\n",
    "train_table['i'] = train_table['i'] - 1\n",
    "test_table['u'] = test_table['u'] - 1\n",
    "test_table['i'] = test_table['i'] - 1"
   ]
  },
  {
   "cell_type": "code",
   "execution_count": 5,
   "metadata": {},
   "outputs": [],
   "source": [
    "# to numpy\n",
    "train_bi = train_table[train_table.columns[0:2]]\n",
    "train_pairs = train_bi.to_numpy()\n",
    "test_triples = test_table.to_numpy()"
   ]
  },
  {
   "cell_type": "code",
   "execution_count": 6,
   "metadata": {},
   "outputs": [],
   "source": [
    "# train_mat\n",
    "train_mat = dict()\n",
    "for u, i in train_pairs:\n",
    "    if u not in train_mat:\n",
    "        train_mat[u] = [i]\n",
    "    else:\n",
    "        train_mat[u].append(i)"
   ]
  },
  {
   "cell_type": "code",
   "execution_count": 7,
   "metadata": {},
   "outputs": [],
   "source": [
    "# val split - 10% of train set\n",
    "train2_mat = dict()\n",
    "val_mat = dict()\n",
    "for u in range(num_user):\n",
    "    if u in train_mat:\n",
    "        items = train_mat[u]\n",
    "        if len(items) > 4:\n",
    "            num_val = max(round(len(items)*0.1), 1)\n",
    "            val_mat[u] = items[-num_val:]\n",
    "            train2_mat[u] = items[:len(items)-num_val]\n",
    "        else:\n",
    "            train2_mat[u] = items"
   ]
  },
  {
   "cell_type": "code",
   "execution_count": 8,
   "metadata": {},
   "outputs": [],
   "source": [
    "# dict to pair\n",
    "train2_pairs = []\n",
    "val_pairs = []\n",
    "for u in range(num_user):\n",
    "    if u in train2_mat:\n",
    "        for i in train2_mat[u]:\n",
    "            train2_pairs.append((u, i))\n",
    "    if u in val_mat:\n",
    "        for i in val_mat[u]:\n",
    "            val_pairs.append((u, i))\n",
    "            \n",
    "train2_pair = np.asarray(train2_pairs)\n",
    "val_pair = np.asarray(val_pairs)"
   ]
  },
  {
   "cell_type": "code",
   "execution_count": 9,
   "metadata": {},
   "outputs": [],
   "source": [
    "# train_matrix\n",
    "train_matrix = np.zeros((num_user, num_item))\n",
    "for u, i in train2_pair:\n",
    "    train_matrix[u][i] = 1\n",
    "    \n",
    "# trainval_matrix\n",
    "trainval_matrix = np.zeros((num_user, num_item))\n",
    "for u, i in train2_pair:\n",
    "    trainval_matrix[u][i] = 1\n",
    "for u, i in val_pair:\n",
    "    trainval_matrix[u][i] = 1    "
   ]
  },
  {
   "cell_type": "code",
   "execution_count": 10,
   "metadata": {},
   "outputs": [],
   "source": [
    "# test dict\n",
    "test_mat = dict()\n",
    "for u, i, r in test_triples:\n",
    "    if r > 3.5:\n",
    "        if u not in test_mat:\n",
    "            test_mat[u] = [i]\n",
    "        else:\n",
    "            test_mat[u].append(i)\n",
    "\n",
    "test_cdd = dict()\n",
    "for u, i, r in test_triples:\n",
    "    if u not in test_cdd:\n",
    "        test_cdd[u] = [i]\n",
    "    else:\n",
    "        test_cdd[u].append(i)"
   ]
  },
  {
   "cell_type": "code",
   "execution_count": 11,
   "metadata": {},
   "outputs": [],
   "source": [
    "np.save('yahooR3/train', train2_pair)\n",
    "np.save('yahooR3/train_dic', train2_mat)\n",
    "np.save('yahooR3/train_mat', train_matrix)\n",
    "\n",
    "np.save('yahooR3/val', val_pair)\n",
    "np.save('yahooR3/val_dic', val_mat)\n",
    "\n",
    "np.save('yahooR3/trainval_dic', train_mat)\n",
    "np.save('yahooR3/trainval_mat', trainval_matrix)\n",
    "\n",
    "np.save('yahooR3/test', test_triples)\n",
    "np.save('yahooR3/test_dic', test_mat)\n",
    "np.save('yahooR3/test_cdd', test_cdd)"
   ]
  },
  {
   "cell_type": "code",
   "execution_count": null,
   "metadata": {},
   "outputs": [],
   "source": []
  }
 ],
 "metadata": {
  "kernelspec": {
   "display_name": "Python 3",
   "language": "python",
   "name": "python3"
  },
  "language_info": {
   "codemirror_mode": {
    "name": "ipython",
    "version": 3
   },
   "file_extension": ".py",
   "mimetype": "text/x-python",
   "name": "python",
   "nbconvert_exporter": "python",
   "pygments_lexer": "ipython3",
   "version": "3.7.3"
  }
 },
 "nbformat": 4,
 "nbformat_minor": 4
}
